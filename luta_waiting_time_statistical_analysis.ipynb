{
 "cells": [
  {
   "cell_type": "code",
   "execution_count": 1,
   "id": "6f73bcd2-9566-46f2-9b36-2aba0e70cdde",
   "metadata": {},
   "outputs": [],
   "source": [
    "import warnings\n",
    "warnings.filterwarnings('ignore')"
   ]
  },
  {
   "cell_type": "code",
   "execution_count": 2,
   "id": "d27fbc4c-8159-482e-9c14-75b58b62e8f4",
   "metadata": {},
   "outputs": [],
   "source": [
    "import numpy as np\n",
    "import pandas as pd"
   ]
  },
  {
   "cell_type": "markdown",
   "id": "e85caa95-ee07-4054-a55b-55f38c3130f5",
   "metadata": {},
   "source": [
    "# Load data"
   ]
  },
  {
   "cell_type": "code",
   "execution_count": 3,
   "id": "d3108a45-2efc-4ec9-8255-26da72a1291f",
   "metadata": {},
   "outputs": [
    {
     "data": {
      "text/html": [
       "<div>\n",
       "<style scoped>\n",
       "    .dataframe tbody tr th:only-of-type {\n",
       "        vertical-align: middle;\n",
       "    }\n",
       "\n",
       "    .dataframe tbody tr th {\n",
       "        vertical-align: top;\n",
       "    }\n",
       "\n",
       "    .dataframe thead th {\n",
       "        text-align: right;\n",
       "    }\n",
       "</style>\n",
       "<table border=\"1\" class=\"dataframe\">\n",
       "  <thead>\n",
       "    <tr style=\"text-align: right;\">\n",
       "      <th></th>\n",
       "      <th>date-time</th>\n",
       "      <th>waiting_time</th>\n",
       "    </tr>\n",
       "  </thead>\n",
       "  <tbody>\n",
       "    <tr>\n",
       "      <th>0</th>\n",
       "      <td>20240415-0908</td>\n",
       "      <td>4:54</td>\n",
       "    </tr>\n",
       "    <tr>\n",
       "      <th>1</th>\n",
       "      <td>20240416-0910</td>\n",
       "      <td>2:42</td>\n",
       "    </tr>\n",
       "    <tr>\n",
       "      <th>2</th>\n",
       "      <td>20240418-0910</td>\n",
       "      <td>3:04</td>\n",
       "    </tr>\n",
       "    <tr>\n",
       "      <th>3</th>\n",
       "      <td>20240419-0915</td>\n",
       "      <td>1:39</td>\n",
       "    </tr>\n",
       "    <tr>\n",
       "      <th>4</th>\n",
       "      <td>20240429-0901</td>\n",
       "      <td>1:50</td>\n",
       "    </tr>\n",
       "    <tr>\n",
       "      <th>5</th>\n",
       "      <td>20240430-0906</td>\n",
       "      <td>1:25</td>\n",
       "    </tr>\n",
       "    <tr>\n",
       "      <th>6</th>\n",
       "      <td>20240502-0905</td>\n",
       "      <td>3:37</td>\n",
       "    </tr>\n",
       "    <tr>\n",
       "      <th>7</th>\n",
       "      <td>20240503-0908</td>\n",
       "      <td>2:17</td>\n",
       "    </tr>\n",
       "    <tr>\n",
       "      <th>8</th>\n",
       "      <td>20240516-0914</td>\n",
       "      <td>1:45</td>\n",
       "    </tr>\n",
       "    <tr>\n",
       "      <th>9</th>\n",
       "      <td>20240517-0912</td>\n",
       "      <td>2:12</td>\n",
       "    </tr>\n",
       "    <tr>\n",
       "      <th>10</th>\n",
       "      <td>20240520-0903</td>\n",
       "      <td>1:43</td>\n",
       "    </tr>\n",
       "    <tr>\n",
       "      <th>11</th>\n",
       "      <td>20240523-0858</td>\n",
       "      <td>2:07</td>\n",
       "    </tr>\n",
       "    <tr>\n",
       "      <th>12</th>\n",
       "      <td>20240527-0859</td>\n",
       "      <td>2:11</td>\n",
       "    </tr>\n",
       "    <tr>\n",
       "      <th>13</th>\n",
       "      <td>20240528-0845</td>\n",
       "      <td>2:13</td>\n",
       "    </tr>\n",
       "    <tr>\n",
       "      <th>14</th>\n",
       "      <td>20240529-0830</td>\n",
       "      <td>3:40</td>\n",
       "    </tr>\n",
       "    <tr>\n",
       "      <th>15</th>\n",
       "      <td>20240530-0855</td>\n",
       "      <td>2:10</td>\n",
       "    </tr>\n",
       "  </tbody>\n",
       "</table>\n",
       "</div>"
      ],
      "text/plain": [
       "        date-time waiting_time\n",
       "0   20240415-0908         4:54\n",
       "1   20240416-0910         2:42\n",
       "2   20240418-0910         3:04\n",
       "3   20240419-0915         1:39\n",
       "4   20240429-0901         1:50\n",
       "5   20240430-0906         1:25\n",
       "6   20240502-0905         3:37\n",
       "7   20240503-0908         2:17\n",
       "8   20240516-0914         1:45\n",
       "9   20240517-0912         2:12\n",
       "10  20240520-0903         1:43\n",
       "11  20240523-0858         2:07\n",
       "12  20240527-0859         2:11\n",
       "13  20240528-0845         2:13\n",
       "14  20240529-0830         3:40\n",
       "15  20240530-0855         2:10"
      ]
     },
     "execution_count": 3,
     "metadata": {},
     "output_type": "execute_result"
    }
   ],
   "source": [
    "file = \"/Users/danichao/Dani_code/python_39/Luta_waiting_time_hypothesis/data_waiting_time.txt\"\n",
    "data = pd.read_csv(file, header=None, names=['date-time', 'waiting_time'])\n",
    "data"
   ]
  },
  {
   "cell_type": "code",
   "execution_count": 4,
   "id": "5b8b9e35-beec-4100-89ac-9b8c6ed2b713",
   "metadata": {},
   "outputs": [
    {
     "data": {
      "text/plain": [
       "date-time       object\n",
       "waiting_time    object\n",
       "dtype: object"
      ]
     },
     "execution_count": 4,
     "metadata": {},
     "output_type": "execute_result"
    }
   ],
   "source": [
    "data.dtypes"
   ]
  },
  {
   "cell_type": "markdown",
   "id": "0050d234-2d26-41fa-b6e0-1ed4d1f78e55",
   "metadata": {},
   "source": [
    "# Data cleaning"
   ]
  },
  {
   "cell_type": "code",
   "execution_count": 5,
   "id": "1523c45e-bb87-43b7-a5d0-6cf781f3deda",
   "metadata": {},
   "outputs": [],
   "source": [
    "# convert the time into seconds\n",
    "def to_seconds(x):\n",
    "    minute, sec = map(float, x.strip().split(':'))\n",
    "    total_seconds = 60 * minute + sec\n",
    "    return total_seconds"
   ]
  },
  {
   "cell_type": "code",
   "execution_count": 6,
   "id": "46e6b4ff-30bc-4ab6-be47-bfe7050e8744",
   "metadata": {},
   "outputs": [
    {
     "data": {
      "text/html": [
       "<div>\n",
       "<style scoped>\n",
       "    .dataframe tbody tr th:only-of-type {\n",
       "        vertical-align: middle;\n",
       "    }\n",
       "\n",
       "    .dataframe tbody tr th {\n",
       "        vertical-align: top;\n",
       "    }\n",
       "\n",
       "    .dataframe thead th {\n",
       "        text-align: right;\n",
       "    }\n",
       "</style>\n",
       "<table border=\"1\" class=\"dataframe\">\n",
       "  <thead>\n",
       "    <tr style=\"text-align: right;\">\n",
       "      <th></th>\n",
       "      <th>date-time</th>\n",
       "      <th>waiting_time</th>\n",
       "      <th>waiting_total_seconds</th>\n",
       "    </tr>\n",
       "  </thead>\n",
       "  <tbody>\n",
       "    <tr>\n",
       "      <th>0</th>\n",
       "      <td>20240415-0908</td>\n",
       "      <td>4:54</td>\n",
       "      <td>294.0</td>\n",
       "    </tr>\n",
       "    <tr>\n",
       "      <th>1</th>\n",
       "      <td>20240416-0910</td>\n",
       "      <td>2:42</td>\n",
       "      <td>162.0</td>\n",
       "    </tr>\n",
       "    <tr>\n",
       "      <th>2</th>\n",
       "      <td>20240418-0910</td>\n",
       "      <td>3:04</td>\n",
       "      <td>184.0</td>\n",
       "    </tr>\n",
       "    <tr>\n",
       "      <th>3</th>\n",
       "      <td>20240419-0915</td>\n",
       "      <td>1:39</td>\n",
       "      <td>99.0</td>\n",
       "    </tr>\n",
       "    <tr>\n",
       "      <th>4</th>\n",
       "      <td>20240429-0901</td>\n",
       "      <td>1:50</td>\n",
       "      <td>110.0</td>\n",
       "    </tr>\n",
       "    <tr>\n",
       "      <th>5</th>\n",
       "      <td>20240430-0906</td>\n",
       "      <td>1:25</td>\n",
       "      <td>85.0</td>\n",
       "    </tr>\n",
       "    <tr>\n",
       "      <th>6</th>\n",
       "      <td>20240502-0905</td>\n",
       "      <td>3:37</td>\n",
       "      <td>217.0</td>\n",
       "    </tr>\n",
       "    <tr>\n",
       "      <th>7</th>\n",
       "      <td>20240503-0908</td>\n",
       "      <td>2:17</td>\n",
       "      <td>137.0</td>\n",
       "    </tr>\n",
       "    <tr>\n",
       "      <th>8</th>\n",
       "      <td>20240516-0914</td>\n",
       "      <td>1:45</td>\n",
       "      <td>105.0</td>\n",
       "    </tr>\n",
       "    <tr>\n",
       "      <th>9</th>\n",
       "      <td>20240517-0912</td>\n",
       "      <td>2:12</td>\n",
       "      <td>132.0</td>\n",
       "    </tr>\n",
       "    <tr>\n",
       "      <th>10</th>\n",
       "      <td>20240520-0903</td>\n",
       "      <td>1:43</td>\n",
       "      <td>103.0</td>\n",
       "    </tr>\n",
       "    <tr>\n",
       "      <th>11</th>\n",
       "      <td>20240523-0858</td>\n",
       "      <td>2:07</td>\n",
       "      <td>127.0</td>\n",
       "    </tr>\n",
       "    <tr>\n",
       "      <th>12</th>\n",
       "      <td>20240527-0859</td>\n",
       "      <td>2:11</td>\n",
       "      <td>131.0</td>\n",
       "    </tr>\n",
       "    <tr>\n",
       "      <th>13</th>\n",
       "      <td>20240528-0845</td>\n",
       "      <td>2:13</td>\n",
       "      <td>133.0</td>\n",
       "    </tr>\n",
       "    <tr>\n",
       "      <th>14</th>\n",
       "      <td>20240529-0830</td>\n",
       "      <td>3:40</td>\n",
       "      <td>220.0</td>\n",
       "    </tr>\n",
       "    <tr>\n",
       "      <th>15</th>\n",
       "      <td>20240530-0855</td>\n",
       "      <td>2:10</td>\n",
       "      <td>130.0</td>\n",
       "    </tr>\n",
       "  </tbody>\n",
       "</table>\n",
       "</div>"
      ],
      "text/plain": [
       "        date-time waiting_time  waiting_total_seconds\n",
       "0   20240415-0908         4:54                  294.0\n",
       "1   20240416-0910         2:42                  162.0\n",
       "2   20240418-0910         3:04                  184.0\n",
       "3   20240419-0915         1:39                   99.0\n",
       "4   20240429-0901         1:50                  110.0\n",
       "5   20240430-0906         1:25                   85.0\n",
       "6   20240502-0905         3:37                  217.0\n",
       "7   20240503-0908         2:17                  137.0\n",
       "8   20240516-0914         1:45                  105.0\n",
       "9   20240517-0912         2:12                  132.0\n",
       "10  20240520-0903         1:43                  103.0\n",
       "11  20240523-0858         2:07                  127.0\n",
       "12  20240527-0859         2:11                  131.0\n",
       "13  20240528-0845         2:13                  133.0\n",
       "14  20240529-0830         3:40                  220.0\n",
       "15  20240530-0855         2:10                  130.0"
      ]
     },
     "execution_count": 6,
     "metadata": {},
     "output_type": "execute_result"
    }
   ],
   "source": [
    "data['waiting_total_seconds'] = data['waiting_time'].apply(to_seconds)\n",
    "data"
   ]
  },
  {
   "cell_type": "markdown",
   "id": "07d92159-435c-4fdf-aaa9-3584bf2b73ad",
   "metadata": {},
   "source": [
    "# Exploration"
   ]
  },
  {
   "cell_type": "code",
   "execution_count": 7,
   "id": "5796a491-739b-4cab-bb24-3f13ddb2b3dc",
   "metadata": {},
   "outputs": [
    {
     "data": {
      "text/plain": [
       "count     16.000000\n",
       "mean     148.062500\n",
       "std       55.435811\n",
       "min       85.000000\n",
       "25%      108.750000\n",
       "50%      131.500000\n",
       "75%      167.500000\n",
       "max      294.000000\n",
       "Name: waiting_total_seconds, dtype: float64"
      ]
     },
     "execution_count": 7,
     "metadata": {},
     "output_type": "execute_result"
    }
   ],
   "source": [
    "data['waiting_total_seconds'].describe()"
   ]
  },
  {
   "cell_type": "markdown",
   "id": "0c98433b-d18e-4b3a-89b8-8bd6389247c9",
   "metadata": {},
   "source": [
    "# Visualize"
   ]
  },
  {
   "cell_type": "code",
   "execution_count": 8,
   "id": "3f3bcc8b-61f8-4a94-9685-3ee3489a9c40",
   "metadata": {},
   "outputs": [],
   "source": [
    "from matplotlib import pyplot as plt\n",
    "import seaborn as sns"
   ]
  },
  {
   "cell_type": "code",
   "execution_count": 9,
   "id": "c2703150-d61f-4a06-aef7-2d8ef52089de",
   "metadata": {},
   "outputs": [
    {
     "data": {
      "text/plain": [
       "Text(0.5, 0, 'Waiting time in seconds')"
      ]
     },
     "execution_count": 9,
     "metadata": {},
     "output_type": "execute_result"
    },
    {
     "data": {
      "image/png": "[encoded data removed]",
      "text/plain": [
       "<Figure size 640x480 with 1 Axes>"
      ]
     },
     "metadata": {},
     "output_type": "display_data"
    }
   ],
   "source": [
    "sns.histplot(data=data, x=\"waiting_total_seconds\", binwidth=30, binrange=[0, 300], kde=True, color='red')\n",
    "plt.xlabel('Waiting time in seconds')"
   ]
  },
  {
   "cell_type": "markdown",
   "id": "f0251ce0-c59d-4238-a1bb-2d0fa1afb9b1",
   "metadata": {},
   "source": [
    "# Hypothesis testing"
   ]
  },
  {
   "cell_type": "markdown",
   "id": "f82768e8-56a9-4671-b09a-0dca7729f520",
   "metadata": {},
   "source": [
    "Since our sample size is small (< 30), I will use ***T distribution*** and ***T test*** to calculate confidence interval and to compare with coffee waiting time in other places.\n",
    "\n",
    "Although we are limited by the small size of the sample, we can still have a deeper inspection by comparing the sample distribution with ***normal distribution*** and ***exponential distribution***. The latter is commonly used for statistical studies of ER waiting time."
   ]
  },
  {
   "cell_type": "markdown",
   "id": "9a6f126f-8643-4610-bca0-862b0dd9e155",
   "metadata": {},
   "source": [
    "## T test"
   ]
  },
  {
   "cell_type": "code",
   "execution_count": 10,
   "id": "9d4ec1d8-cdd4-477e-b194-80d77fa4dd10",
   "metadata": {},
   "outputs": [],
   "source": [
    "from scipy.stats import t\n",
    "from scipy.stats import ttest_1samp"
   ]
  },
  {
   "cell_type": "code",
   "execution_count": 11,
   "id": "764ebd8a-3ab5-44d3-a208-23d726bdbb0a",
   "metadata": {},
   "outputs": [],
   "source": [
    "sample_mean = data['waiting_total_seconds'].describe()['mean']\n",
    "sample_sigma = data['waiting_total_seconds'].describe()['std']\n",
    "sample_sem = sample_sigma/(len(data['waiting_total_seconds']))**0.5"
   ]
  },
  {
   "cell_type": "code",
   "execution_count": 12,
   "id": "bf461fce-bb74-4115-8841-cfcc8de3eb35",
   "metadata": {},
   "outputs": [
    {
     "name": "stdout",
     "output_type": "stream",
     "text": [
      "The 95%-confidence interval for the population mean of Luta waiting time (seconds) is in the range between \n",
      "(118.52284133682173, 177.60215866317827)\n"
     ]
    }
   ],
   "source": [
    "# Calculate confidence interval for the underlying population mean of Luta waiting time\n",
    "lower_bound, upper_bound = \\\n",
    "   t.interval(confidence=0.95, df=len(data['waiting_total_seconds'])-1, loc=sample_mean, scale=sample_sem) \n",
    "\n",
    "print('The 95%-confidence interval for the population mean of Luta waiting time (seconds) is in the range between \\n({}, {})'.format(lower_bound, upper_bound))"
   ]
  },
  {
   "cell_type": "markdown",
   "id": "f6e6d239-6449-4f93-aebc-7200243ed888",
   "metadata": {},
   "source": [
    "The average coffee waiting time varied when I searched on the internet. ***As long as the collected data of coffee waiting time has an average faster than ~118 seconds or slower than ~178 seconds, we have evidence to reject the hypothese that Luta and them have the same waiting time***.\n",
    "\n",
    "For example, according to my search, the average coffee waiting time is `3-5 minutes (180-300 seconds)`, which is `out of Luta's 95%-confidence interval`, and we can say ***Luta has a different coffee waiting time than most coffee shops***."
   ]
  },
  {
   "cell_type": "markdown",
   "id": "ed1e1c2b-bb76-4bd7-aace-80fe7d85bc10",
   "metadata": {},
   "source": [
    "This is equivalent to p-value: ***if p-value is lower than 0.05, then we have evidence to reject the hypothese that Luta and them have the same waiting time***. Taking 3 minutes for the average coffee waiting time among most coffee shops as an example, I calculate the p-value as following."
   ]
  },
  {
   "cell_type": "code",
   "execution_count": 13,
   "id": "8153e292-c173-4d8e-b20d-bac82406418a",
   "metadata": {},
   "outputs": [
    {
     "name": "stdout",
     "output_type": "stream",
     "text": [
      "p-value for T test:  0.03591280863658684\n"
     ]
    }
   ],
   "source": [
    "population_mean = 180  #from collected data\n",
    "t_statistic, p_value_t = ttest_1samp(data['waiting_total_seconds'], popmean=population_mean)\n",
    "print('p-value for T test: ', p_value_t)"
   ]
  },
  {
   "cell_type": "markdown",
   "id": "1388585f-5e11-4d7b-b647-21c12b655691",
   "metadata": {},
   "source": [
    "***The p-value is ~0.036, lower than 0.05, showing the evidence that Luta has a different coffee waiting time than most coffee shops.***"
   ]
  },
  {
   "cell_type": "markdown",
   "id": "beac9034-849c-46de-97c7-335b48fee52b",
   "metadata": {},
   "source": [
    "## Kolmogorov–Smirnov (K-S) tests"
   ]
  },
  {
   "cell_type": "markdown",
   "id": "f5a505b0-0a12-44fd-8eed-898f4ca79689",
   "metadata": {},
   "source": [
    "The following analysis is based on an important assumption: ***the distribution of Luta waiting time stays the same when we have large-enough sample size (>30)***.\n",
    "\n",
    "I will compare this pseudo distribution with normal distribution and exponential distribution, and use `Kolmogorov–Smirnov (K-S) tests` to examine the ***hypothesis that the sample is drawn from normal distribution (exponential distribution)***.\n",
    "\n",
    "***Note again: the following analysis is nothing but a toy model.***"
   ]
  },
  {
   "cell_type": "markdown",
   "id": "a9bfe9a3-a482-4749-a7e1-b2237d856196",
   "metadata": {},
   "source": [
    "### Inspection"
   ]
  },
  {
   "cell_type": "code",
   "execution_count": 14,
   "id": "cef85c5c-e3a7-49ed-8326-1ddf98ec27c1",
   "metadata": {},
   "outputs": [],
   "source": [
    "from scipy.stats import norm\n",
    "from scipy.stats import expon\n",
    "from scipy.stats import kstest\n",
    "from scipy.stats import gaussian_kde"
   ]
  },
  {
   "cell_type": "code",
   "execution_count": 15,
   "id": "8d052865-c224-44c0-98b4-16e8442b8536",
   "metadata": {},
   "outputs": [],
   "source": [
    "x_points = np.linspace(0, 400, num=10000)\n",
    "\n",
    "normal_x = norm.pdf(x_points, sample_mean, sample_sigma)\n",
    "exp_x = expon.pdf(x_points, scale=sample_mean)\n",
    "\n",
    "norm_sample = norm.rvs(loc=sample_mean, scale=sample_sigma, size=45)\n",
    "exp_sample = expon.rvs(scale=sample_mean, size=45)"
   ]
  },
  {
   "cell_type": "code",
   "execution_count": 16,
   "id": "d70e9e81-ceae-4e2e-b2cf-f57e6892f53d",
   "metadata": {},
   "outputs": [
    {
     "data": {
      "text/plain": [
       "<matplotlib.legend.Legend at 0x12268fd50>"
      ]
     },
     "execution_count": 16,
     "metadata": {},
     "output_type": "execute_result"
    },
    {
     "data": {
      "image/png": "[encoded data removed]",
      "text/plain": [
       "<Figure size 640x480 with 1 Axes>"
      ]
     },
     "metadata": {},
     "output_type": "display_data"
    }
   ],
   "source": [
    "sns.kdeplot(data=data, x=\"waiting_total_seconds\", label='Luta waiting time', clip=[60, 360], color='red')\n",
    "plt.plot(x_points, exp_x,  label='Exponential distribution', color='green')\n",
    "plt.plot(x_points, normal_x,  label='Normal distribution', color='blue')\n",
    "plt.xlabel('Waiting time in seconds')\n",
    "plt.ylabel('Probability density')\n",
    "plt.xlim([0,450])\n",
    "plt.legend()"
   ]
  },
  {
   "cell_type": "markdown",
   "id": "368fb068-3307-4207-b9b3-1b3a752e6cbb",
   "metadata": {},
   "source": [
    "Apparently, unlike ER waiting time, Luta waiting time is not closed to exponential distribution at all."
   ]
  },
  {
   "cell_type": "markdown",
   "id": "bbe91eb7-bd98-4dcd-956c-9f36515d955f",
   "metadata": {},
   "source": [
    "### Test results"
   ]
  },
  {
   "cell_type": "code",
   "execution_count": 17,
   "id": "f778b8d9-fb7f-418a-b76e-344de2eeb587",
   "metadata": {},
   "outputs": [],
   "source": [
    "# Get estimated probability density function (PDF) for Luta waiting time\n",
    "sample_kde = gaussian_kde(data['waiting_total_seconds'])\n",
    "sample_kde_points = sample_kde(x_points)"
   ]
  },
  {
   "cell_type": "code",
   "execution_count": 18,
   "id": "9ba65ff4-b7b8-42ef-b1fe-5ec5960f33f8",
   "metadata": {},
   "outputs": [
    {
     "data": {
      "text/plain": [
       "<matplotlib.legend.Legend at 0x1247a6b50>"
      ]
     },
     "execution_count": 18,
     "metadata": {},
     "output_type": "execute_result"
    },
    {
     "data": {
      "image/png": "[encoded data removed]",
      "text/plain": [
       "<Figure size 640x480 with 1 Axes>"
      ]
     },
     "metadata": {},
     "output_type": "display_data"
    }
   ],
   "source": [
    "plt.plot(x_points, sample_kde_points, label = 'Luta waiting time (KDE)')\n",
    "plt.plot(x_points, normal_x, label = 'Normal distribution')\n",
    "plt.plot(x_points, exp_x, label = 'Exponential distribution')\n",
    "plt.legend(loc='upper right')"
   ]
  },
  {
   "cell_type": "markdown",
   "id": "6c7efb19-10d8-4cea-a1ed-b2556c4fdb51",
   "metadata": {},
   "source": [
    "The gaussian-kernel-densitiy estimated PDF (KDE) looks good, as it looks like what seaborn kdeplot gives us."
   ]
  },
  {
   "cell_type": "code",
   "execution_count": 19,
   "id": "e2beea2c-dd6f-4d46-b0e3-10ea13258449",
   "metadata": {},
   "outputs": [],
   "source": [
    "# First we need to increase our sample size with gaussian-kernel-densitiy estimated PDF\n",
    "new_sample = sample_kde.resample(15)[0]\n",
    "sample_kde_points = np.concatenate([data['waiting_total_seconds'].values, new_sample])"
   ]
  },
  {
   "cell_type": "code",
   "execution_count": 20,
   "id": "3470b2e4-dcf5-4a24-ae00-882e0106f7c6",
   "metadata": {},
   "outputs": [],
   "source": [
    "new_sample_mean = np.mean(sample_kde_points)\n",
    "new_sample_sigma = np.std(sample_kde_points)\n",
    "new_sample_sem = new_sample_sigma/(len(sample_kde_points))**0.5"
   ]
  },
  {
   "cell_type": "code",
   "execution_count": 21,
   "id": "60e5a2ca-a524-46b3-8e33-e18fdbd9b20e",
   "metadata": {},
   "outputs": [
    {
     "name": "stdout",
     "output_type": "stream",
     "text": [
      "The 95%-confidence interval for the population mean of new mock sample is in the range between \n",
      "(131.5481757871012, 174.28461391620684)\n"
     ]
    }
   ],
   "source": [
    "from scipy.stats import norm\n",
    "lower_bound, upper_bound = norm.interval(confidence=0.95, loc=new_sample_mean, scale=new_sample_sem)\n",
    "\n",
    "print('The 95%-confidence interval for the population mean of new mock sample is in the range between \\n({}, {})'.format(lower_bound, upper_bound))"
   ]
  },
  {
   "cell_type": "markdown",
   "id": "b42bc546-ec1d-4325-ba95-b23af0d842ac",
   "metadata": {},
   "source": [
    "Since now we have ***sample size > 30***, we can estimate the confidence interval for population mean using normal distribution, which is more common. Now ***if most coffee shops have waiting time faster than ~131 seconds or slower than ~175 seconds, we will have evidence to reject the hypothesis that Luta and them have the same waiting time.***"
   ]
  },
  {
   "cell_type": "code",
   "execution_count": 22,
   "id": "119c66c4-2648-49fa-a3d3-d53e08f85d5a",
   "metadata": {},
   "outputs": [],
   "source": [
    "def KS_report(sample_kde_points, dist_mock):\n",
    "    test_statistic, p_value = kstest(sample_kde_points, dist_mock)\n",
    "    print('p-value: ', p_value)\n",
    "    #print('test statistic: ', test_statistic)"
   ]
  },
  {
   "cell_type": "code",
   "execution_count": 23,
   "id": "231fff1e-5b93-4698-a073-42724b1a7ab8",
   "metadata": {},
   "outputs": [
    {
     "name": "stdout",
     "output_type": "stream",
     "text": [
      "K-S test with normal distribution\n",
      "p-value:  0.2701331754264033\n"
     ]
    }
   ],
   "source": [
    "print('K-S test with normal distribution')\n",
    "KS_report(sample_kde_points, norm_sample)"
   ]
  },
  {
   "cell_type": "code",
   "execution_count": 24,
   "id": "2dd5b323-28b9-4f97-8b1b-22f812185cd2",
   "metadata": {},
   "outputs": [
    {
     "name": "stdout",
     "output_type": "stream",
     "text": [
      "K-S test with exponential distribution\n",
      "p-value:  0.0036474939486158\n"
     ]
    }
   ],
   "source": [
    "print('K-S test with exponential distribution')\n",
    "KS_report(sample_kde_points, exp_sample)"
   ]
  },
  {
   "cell_type": "markdown",
   "id": "9e24f664-1a3b-488d-a74b-c2f6bf9a027e",
   "metadata": {},
   "source": [
    "Based on the p-values, we conclude as following:\n",
    "- `p-value ~0.27, which is higher than 0.05:` As we collect more observations of coffee waiting time at Luta and from normal distribution, sharing the same sample mean and standard deviation, we will ***fail to reject*** statistically that Luta has different waiting time than normal distribution.\n",
    "\n",
    "- `p-value ~0.003, which is still lower than 0.05:` We still can claim Luta coffee waiting time is different from exponential distribution and are certain that Luta waiting time is different from ER waiting time.\n"
   ]
  },
  {
   "cell_type": "code",
   "execution_count": null,
   "id": "7b3dd534-1e27-4d18-a998-d444d9e215a6",
   "metadata": {},
   "outputs": [],
   "source": []
  }
 ],
 "metadata": {
  "kernelspec": {
   "display_name": "Python 3 (ipykernel)",
   "language": "python",
   "name": "python3"
  },
  "language_info": {
   "codemirror_mode": {
    "name": "ipython",
    "version": 3
   },
   "file_extension": ".py",
   "mimetype": "text/x-python",
   "name": "python",
   "nbconvert_exporter": "python",
   "pygments_lexer": "ipython3",
   "version": "3.11.3"
  }
 },
 "nbformat": 4,
 "nbformat_minor": 5
}
